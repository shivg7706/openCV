{
  "nbformat": 4,
  "nbformat_minor": 0,
  "metadata": {
    "colab": {
      "name": "basic_cnn.ipynb",
      "version": "0.3.2",
      "provenance": []
    },
    "kernelspec": {
      "name": "python3",
      "display_name": "Python 3"
    },
    "accelerator": "GPU"
  },
  "cells": [
    {
      "metadata": {
        "id": "Wp4jWE0IdgXG",
        "colab_type": "code",
        "colab": {
          "base_uri": "https://localhost:8080/",
          "height": 34
        },
        "outputId": "ce92512a-29ce-42a8-9a08-0a4124c2cfb3"
      },
      "cell_type": "code",
      "source": [
        "from keras.datasets import mnist\n",
        "import matplotlib.pyplot as plt"
      ],
      "execution_count": 1,
      "outputs": [
        {
          "output_type": "stream",
          "text": [
            "Using TensorFlow backend.\n"
          ],
          "name": "stderr"
        }
      ]
    },
    {
      "metadata": {
        "id": "sZOLoJKqdwJb",
        "colab_type": "code",
        "colab": {}
      },
      "cell_type": "code",
      "source": [
        "#loading the data\n",
        "(X_train, y_train), (X_test, y_test) = mnist.load_data()"
      ],
      "execution_count": 0,
      "outputs": []
    },
    {
      "metadata": {
        "id": "XbTXLQYFdhbO",
        "colab_type": "code",
        "colab": {}
      },
      "cell_type": "code",
      "source": [
        "import numpy as np\n",
        "from keras.datasets import mnist\n",
        "from keras.models import Sequential\n",
        "from keras.layers import Dense\n",
        "from keras.layers import Dropout\n",
        "from keras.layers import Flatten\n",
        "from keras.layers.convolutional import Conv2D\n",
        "from keras.layers import Dense, Dropout, Flatten, Conv2D, MaxPool2D, BatchNormalization\n",
        "from keras.layers.convolutional import MaxPooling2D\n",
        "from keras.utils import np_utils\n",
        "from keras import backend as K\n",
        "K.set_image_dim_ordering('th')"
      ],
      "execution_count": 0,
      "outputs": []
    },
    {
      "metadata": {
        "id": "7ypxNQ1ref7c",
        "colab_type": "code",
        "colab": {
          "base_uri": "https://localhost:8080/",
          "height": 52
        },
        "outputId": "6e62ad55-ceee-428a-f7d7-b05f1d874b09"
      },
      "cell_type": "code",
      "source": [
        "# fix random seed\n",
        "np.random.seed(7)\n",
        "num_pixels = X_train.shape[1] * X_train.shape[2]\n",
        "print(num_pixels)\n",
        "#flattening the image for training\n",
        "X_train = X_train.reshape(X_train.shape[0], 1, 28, 28).astype('float32')\n",
        "X_test = X_test.reshape(X_test.shape[0], 1, 28, 28).astype('float32')\n",
        "#normalizing input\n",
        "X_train /= 255\n",
        "X_test /= 255\n",
        "#setting the output\n",
        "y_train = np_utils.to_categorical(y_train)\n",
        "y_test = np_utils.to_categorical(y_test)\n",
        "num_classes = y_test.shape[1]\n",
        "print(num_classes)"
      ],
      "execution_count": 4,
      "outputs": [
        {
          "output_type": "stream",
          "text": [
            "784\n",
            "10\n"
          ],
          "name": "stdout"
        }
      ]
    },
    {
      "metadata": {
        "id": "hFxuMOwKhOFA",
        "colab_type": "code",
        "colab": {}
      },
      "cell_type": "code",
      "source": [
        "def baseline_model():\n",
        "    model = Sequential()\n",
        "    model.add(Conv2D(32, kernel_size=5,input_shape=(1, 28, 28), activation = 'relu'))\n",
        "    model.add(MaxPooling2D(2,2))\n",
        "    model.add(BatchNormalization())\n",
        "    model.add(Dropout(0.4))\n",
        "\n",
        "    model.add(Conv2D(64, kernel_size=3,activation = 'relu'))\n",
        "    model.add(Conv2D(64, kernel_size=3,activation = 'relu'))\n",
        "    model.add(MaxPooling2D(2,2))\n",
        "    model.add(BatchNormalization())\n",
        "    model.add(Dropout(0.4))\n",
        "\n",
        "    model.add(Conv2D(128, kernel_size=3, activation = 'relu'))\n",
        "    model.add(BatchNormalization())\n",
        "\n",
        "    model.add(Flatten())\n",
        "    model.add(Dense(256, activation = \"relu\"))\n",
        "    model.add(Dropout(0.4))\n",
        "    model.add(Dense(128, activation = \"relu\"))\n",
        "    model.add(Dropout(0.4))\n",
        "    model.add(Dense(10, activation = \"softmax\"))\n",
        "    \n",
        "    model.compile(loss='categorical_crossentropy', optimizer='adam', metrics=['accuracy'])\n",
        "    \n",
        "    return model"
      ],
      "execution_count": 0,
      "outputs": []
    },
    {
      "metadata": {
        "id": "jb33iv5kiCIO",
        "colab_type": "code",
        "colab": {
          "base_uri": "https://localhost:8080/",
          "height": 746
        },
        "outputId": "3f843701-d480-469b-e7a5-5563443098c1"
      },
      "cell_type": "code",
      "source": [
        "model = baseline_model()\n",
        "model.fit(X_train, y_train, validation_data=(X_test, y_test), epochs=20, batch_size=200, verbose=2)\n",
        "scores = model.evaluate(X_test, y_test, verbose=0)\n",
        "print('CNN Error {}'.format(100-scores[1]*100))"
      ],
      "execution_count": 6,
      "outputs": [
        {
          "output_type": "stream",
          "text": [
            "Train on 60000 samples, validate on 10000 samples\n",
            "Epoch 1/20\n",
            " - 9s - loss: 0.4140 - acc: 0.8662 - val_loss: 0.0511 - val_acc: 0.9837\n",
            "Epoch 2/20\n",
            " - 7s - loss: 0.0997 - acc: 0.9706 - val_loss: 0.0338 - val_acc: 0.9895\n",
            "Epoch 3/20\n",
            " - 7s - loss: 0.0739 - acc: 0.9787 - val_loss: 0.0275 - val_acc: 0.9921\n",
            "Epoch 4/20\n",
            " - 7s - loss: 0.0612 - acc: 0.9832 - val_loss: 0.0285 - val_acc: 0.9915\n",
            "Epoch 5/20\n",
            " - 7s - loss: 0.0537 - acc: 0.9851 - val_loss: 0.0252 - val_acc: 0.9927\n",
            "Epoch 6/20\n",
            " - 7s - loss: 0.0475 - acc: 0.9864 - val_loss: 0.0202 - val_acc: 0.9947\n",
            "Epoch 7/20\n",
            " - 7s - loss: 0.0417 - acc: 0.9881 - val_loss: 0.0226 - val_acc: 0.9930\n",
            "Epoch 8/20\n",
            " - 7s - loss: 0.0398 - acc: 0.9886 - val_loss: 0.0207 - val_acc: 0.9935\n",
            "Epoch 9/20\n",
            " - 8s - loss: 0.0399 - acc: 0.9886 - val_loss: 0.0215 - val_acc: 0.9925\n",
            "Epoch 10/20\n",
            " - 7s - loss: 0.0347 - acc: 0.9901 - val_loss: 0.0180 - val_acc: 0.9945\n",
            "Epoch 11/20\n",
            " - 7s - loss: 0.0309 - acc: 0.9908 - val_loss: 0.0171 - val_acc: 0.9952\n",
            "Epoch 12/20\n",
            " - 8s - loss: 0.0306 - acc: 0.9910 - val_loss: 0.0204 - val_acc: 0.9949\n",
            "Epoch 13/20\n",
            " - 7s - loss: 0.0291 - acc: 0.9918 - val_loss: 0.0257 - val_acc: 0.9924\n",
            "Epoch 14/20\n",
            " - 8s - loss: 0.0273 - acc: 0.9922 - val_loss: 0.0229 - val_acc: 0.9940\n",
            "Epoch 15/20\n",
            " - 7s - loss: 0.0263 - acc: 0.9919 - val_loss: 0.0196 - val_acc: 0.9944\n",
            "Epoch 16/20\n",
            " - 8s - loss: 0.0240 - acc: 0.9934 - val_loss: 0.0175 - val_acc: 0.9944\n",
            "Epoch 17/20\n",
            " - 7s - loss: 0.0251 - acc: 0.9923 - val_loss: 0.0205 - val_acc: 0.9946\n",
            "Epoch 18/20\n",
            " - 8s - loss: 0.0232 - acc: 0.9928 - val_loss: 0.0182 - val_acc: 0.9944\n",
            "Epoch 19/20\n",
            " - 7s - loss: 0.0232 - acc: 0.9932 - val_loss: 0.0140 - val_acc: 0.9956\n",
            "Epoch 20/20\n",
            " - 8s - loss: 0.0220 - acc: 0.9939 - val_loss: 0.0178 - val_acc: 0.9953\n",
            "CNN Error 0.46999999999999886\n"
          ],
          "name": "stdout"
        }
      ]
    },
    {
      "metadata": {
        "id": "bC7mb9KriwTx",
        "colab_type": "code",
        "colab": {
          "base_uri": "https://localhost:8080/",
          "height": 729
        },
        "cellView": "both",
        "outputId": "7f30b666-6dfd-481b-e11e-68955f5472d1"
      },
      "cell_type": "code",
      "source": [
        "model.summary()\n"
      ],
      "execution_count": 7,
      "outputs": [
        {
          "output_type": "stream",
          "text": [
            "_________________________________________________________________\n",
            "Layer (type)                 Output Shape              Param #   \n",
            "=================================================================\n",
            "conv2d_1 (Conv2D)            (None, 32, 24, 24)        832       \n",
            "_________________________________________________________________\n",
            "max_pooling2d_1 (MaxPooling2 (None, 32, 12, 12)        0         \n",
            "_________________________________________________________________\n",
            "batch_normalization_1 (Batch (None, 32, 12, 12)        48        \n",
            "_________________________________________________________________\n",
            "dropout_1 (Dropout)          (None, 32, 12, 12)        0         \n",
            "_________________________________________________________________\n",
            "conv2d_2 (Conv2D)            (None, 64, 10, 10)        18496     \n",
            "_________________________________________________________________\n",
            "conv2d_3 (Conv2D)            (None, 64, 8, 8)          36928     \n",
            "_________________________________________________________________\n",
            "max_pooling2d_2 (MaxPooling2 (None, 64, 4, 4)          0         \n",
            "_________________________________________________________________\n",
            "batch_normalization_2 (Batch (None, 64, 4, 4)          16        \n",
            "_________________________________________________________________\n",
            "dropout_2 (Dropout)          (None, 64, 4, 4)          0         \n",
            "_________________________________________________________________\n",
            "conv2d_4 (Conv2D)            (None, 128, 2, 2)         73856     \n",
            "_________________________________________________________________\n",
            "batch_normalization_3 (Batch (None, 128, 2, 2)         8         \n",
            "_________________________________________________________________\n",
            "flatten_1 (Flatten)          (None, 512)               0         \n",
            "_________________________________________________________________\n",
            "dense_1 (Dense)              (None, 256)               131328    \n",
            "_________________________________________________________________\n",
            "dropout_3 (Dropout)          (None, 256)               0         \n",
            "_________________________________________________________________\n",
            "dense_2 (Dense)              (None, 128)               32896     \n",
            "_________________________________________________________________\n",
            "dropout_4 (Dropout)          (None, 128)               0         \n",
            "_________________________________________________________________\n",
            "dense_3 (Dense)              (None, 10)                1290      \n",
            "=================================================================\n",
            "Total params: 295,698\n",
            "Trainable params: 295,662\n",
            "Non-trainable params: 36\n",
            "_________________________________________________________________\n"
          ],
          "name": "stdout"
        }
      ]
    }
  ]
}